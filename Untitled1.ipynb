{
  "nbformat": 4,
  "nbformat_minor": 0,
  "metadata": {
    "colab": {
      "name": "Untitled1.ipynb",
      "provenance": [],
      "authorship_tag": "ABX9TyN1RzRyy2Fg1vwkAVi4TKLd",
      "include_colab_link": true
    },
    "kernelspec": {
      "name": "python3",
      "display_name": "Python 3"
    },
    "language_info": {
      "name": "python"
    }
  },
  "cells": [
    {
      "cell_type": "markdown",
      "metadata": {
        "id": "view-in-github",
        "colab_type": "text"
      },
      "source": [
        "<a href=\"https://colab.research.google.com/github/Nadia-Chen/RC-GNN/blob/main/Untitled1.ipynb\" target=\"_parent\"><img src=\"https://colab.research.google.com/assets/colab-badge.svg\" alt=\"Open In Colab\"/></a>"
      ]
    },
    {
      "cell_type": "code",
      "source": [
        "!pip install reservoirpy==0.3.0"
      ],
      "metadata": {
        "colab": {
          "base_uri": "https://localhost:8080/"
        },
        "id": "_-hM9BVthOkq",
        "outputId": "7f31193c-9cef-4568-f350-b38a57d23766"
      },
      "execution_count": 2,
      "outputs": [
        {
          "output_type": "stream",
          "name": "stdout",
          "text": [
            "Collecting reservoirpy==0.3.0\n",
            "  Downloading reservoirpy-0.3.0-py3-none-any.whl (120 kB)\n",
            "\u001b[?25l\r\u001b[K     |██▊                             | 10 kB 14.5 MB/s eta 0:00:01\r\u001b[K     |█████▌                          | 20 kB 12.5 MB/s eta 0:00:01\r\u001b[K     |████████▏                       | 30 kB 9.3 MB/s eta 0:00:01\r\u001b[K     |███████████                     | 40 kB 3.7 MB/s eta 0:00:01\r\u001b[K     |█████████████▋                  | 51 kB 3.7 MB/s eta 0:00:01\r\u001b[K     |████████████████▍               | 61 kB 4.3 MB/s eta 0:00:01\r\u001b[K     |███████████████████             | 71 kB 4.5 MB/s eta 0:00:01\r\u001b[K     |█████████████████████▉          | 81 kB 3.4 MB/s eta 0:00:01\r\u001b[K     |████████████████████████▌       | 92 kB 3.7 MB/s eta 0:00:01\r\u001b[K     |███████████████████████████▎    | 102 kB 4.1 MB/s eta 0:00:01\r\u001b[K     |██████████████████████████████  | 112 kB 4.1 MB/s eta 0:00:01\r\u001b[K     |████████████████████████████████| 120 kB 4.1 MB/s \n",
            "\u001b[?25hRequirement already satisfied: dill>=0.3.0numpy>=1.15.0 in /usr/local/lib/python3.7/dist-packages (from reservoirpy==0.3.0) (0.3.4)\n",
            "Requirement already satisfied: tqdm>=4.43.0 in /usr/local/lib/python3.7/dist-packages (from reservoirpy==0.3.0) (4.62.3)\n",
            "Requirement already satisfied: scipy<=1.7.3,>=1.0.0 in /usr/local/lib/python3.7/dist-packages (from reservoirpy==0.3.0) (1.4.1)\n",
            "Requirement already satisfied: joblib>=0.12 in /usr/local/lib/python3.7/dist-packages (from reservoirpy==0.3.0) (1.1.0)\n",
            "Requirement already satisfied: numpy>=1.13.3 in /usr/local/lib/python3.7/dist-packages (from scipy<=1.7.3,>=1.0.0->reservoirpy==0.3.0) (1.21.5)\n",
            "Installing collected packages: reservoirpy\n",
            "Successfully installed reservoirpy-0.3.0\n"
          ]
        }
      ]
    },
    {
      "cell_type": "code",
      "execution_count": 3,
      "metadata": {
        "id": "0bmlfkMDhKaK"
      },
      "outputs": [],
      "source": [
        "from reservoirpy.datasets import mackey_glass\n",
        "\n",
        "X = mackey_glass(n_timesteps=2000)"
      ]
    },
    {
      "cell_type": "code",
      "source": [
        "from reservoirpy.nodes import Reservoir, Ridge\n",
        "\n",
        "reservoir = Reservoir(units=100, lr=0.3, sr=1.25)\n",
        "readout = Ridge(output_dim=1, ridge=1e-5)"
      ],
      "metadata": {
        "id": "Ay9XiGNEhZ2T"
      },
      "execution_count": 4,
      "outputs": []
    },
    {
      "cell_type": "code",
      "source": [
        "esn = reservoir >> readout"
      ],
      "metadata": {
        "id": "bO4rVdduhhtp"
      },
      "execution_count": 5,
      "outputs": []
    },
    {
      "cell_type": "code",
      "source": [
        "esn.fit(X[:500], X[1:501])"
      ],
      "metadata": {
        "colab": {
          "base_uri": "https://localhost:8080/"
        },
        "id": "jXP53hxjhmfC",
        "outputId": "985a5f90-340a-47ae-8c2b-6c46e1aea24a"
      },
      "execution_count": 6,
      "outputs": [
        {
          "output_type": "stream",
          "name": "stderr",
          "text": [
            "Running Model-0:   0%|          | 0/1 [00:00<?, ?it/s]\n",
            "Running SubModel-f2adeaa5-8560-4643-afc6-0e112c448c47:   0%|          | 0/1 [00:00<?, ?it/s]\u001b[A\n",
            "Running SubModel-f2adeaa5-8560-4643-afc6-0e112c448c47: 500it [00:00, 3435.67it/s]\n",
            "Running Model-0: 100%|██████████| 1/1 [00:00<00:00,  5.97it/s]\n"
          ]
        },
        {
          "output_type": "stream",
          "name": "stdout",
          "text": [
            "Fitting node Ridge-0...\n"
          ]
        },
        {
          "output_type": "execute_result",
          "data": {
            "text/plain": [
              "'Model-0': Model('Reservoir-0', 'Ridge-0')"
            ]
          },
          "metadata": {},
          "execution_count": 6
        }
      ]
    },
    {
      "cell_type": "code",
      "source": [
        "predictions = esn.run(X[501:-1])"
      ],
      "metadata": {
        "colab": {
          "base_uri": "https://localhost:8080/"
        },
        "id": "NiMeyyX1hqBF",
        "outputId": "4f3a8a77-c66b-4cd8-b1b7-22a12a2e71ed"
      },
      "execution_count": 7,
      "outputs": [
        {
          "output_type": "stream",
          "name": "stderr",
          "text": [
            "Running Model-0: 100%|██████████| 1498/1498 [00:00<00:00, 1846.59it/s]\n"
          ]
        }
      ]
    },
    {
      "cell_type": "code",
      "source": [
        "predictions = esn.fit(X[:500], X[1:501]).run(X[501:-1])"
      ],
      "metadata": {
        "colab": {
          "base_uri": "https://localhost:8080/"
        },
        "id": "5WynEdQ-hrzB",
        "outputId": "44a8de23-1fdf-4b1d-f5a7-3ddf7a3a3971"
      },
      "execution_count": 8,
      "outputs": [
        {
          "output_type": "stream",
          "name": "stderr",
          "text": [
            "Running Model-0:   0%|          | 0/1 [00:00<?, ?it/s]\n",
            "Running SubModel-f97b2ec3-beb4-44b5-aab3-4d78308c6da5:   0%|          | 0/1 [00:00<?, ?it/s]\u001b[A\n",
            "Running SubModel-f97b2ec3-beb4-44b5-aab3-4d78308c6da5: 500it [00:00, 3017.15it/s]\n",
            "Running Model-0: 100%|██████████| 1/1 [00:00<00:00,  5.37it/s]\n"
          ]
        },
        {
          "output_type": "stream",
          "name": "stdout",
          "text": [
            "Fitting node Ridge-0...\n"
          ]
        },
        {
          "output_type": "stream",
          "name": "stderr",
          "text": [
            "Running Model-0: 100%|██████████| 1498/1498 [00:00<00:00, 2043.31it/s]\n"
          ]
        }
      ]
    },
    {
      "cell_type": "code",
      "source": [
        "from reservoirpy.observables import rmse, rsquare\n",
        "print(\"RMSE:\", rmse(X[502:], predictions),\n",
        "      \"R^2 score:\", rsquare(X[502:], predictions))"
      ],
      "metadata": {
        "colab": {
          "base_uri": "https://localhost:8080/"
        },
        "id": "INGhljVahttx",
        "outputId": "171824b1-c375-47bf-c664-8117cfecd18b"
      },
      "execution_count": 9,
      "outputs": [
        {
          "output_type": "stream",
          "name": "stdout",
          "text": [
            "RMSE: 0.004006277736664655 R^2 score: 0.999690876959534\n"
          ]
        }
      ]
    },
    {
      "cell_type": "code",
      "source": [
        ""
      ],
      "metadata": {
        "id": "VdRIxgNghvsJ"
      },
      "execution_count": null,
      "outputs": []
    }
  ]
}